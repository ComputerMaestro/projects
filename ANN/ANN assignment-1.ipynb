{
 "cells": [
  {
   "cell_type": "markdown",
   "metadata": {},
   "source": [
    "# Training and Testing of Artificial Neural Networks"
   ]
  },
  {
   "cell_type": "code",
   "execution_count": 5,
   "metadata": {},
   "outputs": [],
   "source": [
    "import numpy as np"
   ]
  },
  {
   "cell_type": "markdown",
   "metadata": {},
   "source": [
    "## MADALINE\n",
    "\n",
    "This is a 2 layered artificial neural network. In which, only first weight layer is trainable second layer is kept fixed. Also, it can have only on output unit. `MADALINE.py` contains a general model for **MADALINE**. First we will import model here:"
   ]
  },
  {
   "cell_type": "code",
   "execution_count": null,
   "metadata": {},
   "outputs": [],
   "source": [
    "from MADALINE import MADALINE"
   ]
  },
  {
   "cell_type": "markdown",
   "metadata": {},
   "source": [
    "Next, we will define an instance of the model with 4 input units and 7 hidden units:"
   ]
  },
  {
   "cell_type": "code",
   "execution_count": null,
   "metadata": {},
   "outputs": [],
   "source": [
    "model = MADALINE(2, 2)"
   ]
  },
  {
   "cell_type": "markdown",
   "metadata": {},
   "source": [
    "We can see what all variables the `model` contains:"
   ]
  },
  {
   "cell_type": "code",
   "execution_count": null,
   "metadata": {},
   "outputs": [],
   "source": [
    "print(vars(model))"
   ]
  },
  {
   "cell_type": "markdown",
   "metadata": {},
   "source": [
    "From above output, we can see that the model has 4 member variables namely, **W1**, **W2**, **b1** and **b2**. These corresponds to the weights for first layer, weights for second layer, biases for hidden layer and bias for output layer. Apart from these we have one more member variable **sum** which will be used to save the sums calculated while forward pass for hidden layer and this will be used to change the weights later while backpropagation."
   ]
  },
  {
   "cell_type": "markdown",
   "metadata": {},
   "source": [
    "To do the calculations manually, I will reinitiaze weights of **model** so that we wouldn't get random weights"
   ]
  },
  {
   "cell_type": "code",
   "execution_count": null,
   "metadata": {},
   "outputs": [],
   "source": [
    "model.W1 = np.array([[0.1, 0.2], [0.3, 0.4]])\n",
    "model.b1 = np.array([[0.5], [0.5]])\n",
    "model.W2 = np.array([[0.5, 0.6]])\n",
    "model.b2 = np.array([[0.5]])"
   ]
  },
  {
   "cell_type": "code",
   "execution_count": null,
   "metadata": {},
   "outputs": [],
   "source": [
    "print(vars(model))"
   ]
  },
  {
   "cell_type": "markdown",
   "metadata": {},
   "source": [
    "I am going train the model to mimic XOR gate so for that we need to make data to pass through the neural net to learn."
   ]
  },
  {
   "cell_type": "code",
   "execution_count": null,
   "metadata": {},
   "outputs": [],
   "source": [
    "data = [(np.array([[1], [1]]), np.array([[-1]])), \n",
    "        (np.array([[1], [-1]]), np.array([[1]])), \n",
    "        (np.array([[-1], [1]]), np.array([[1]])), \n",
    "        (np.array([[-1], [-1]]), np.array([[-1]]))]\n",
    "print(data)"
   ]
  },
  {
   "cell_type": "markdown",
   "metadata": {},
   "source": [
    "Time to train the Madaline net, to show the weights I will train the net for each epoch separately instead of training for multiple epochs at once with 0.5 learning rate."
   ]
  },
  {
   "cell_type": "code",
   "execution_count": null,
   "metadata": {},
   "outputs": [],
   "source": [
    "model.train(data, 0.5, 1)"
   ]
  },
  {
   "cell_type": "code",
   "execution_count": null,
   "metadata": {},
   "outputs": [],
   "source": [
    "model.W1"
   ]
  },
  {
   "cell_type": "markdown",
   "metadata": {},
   "source": [
    "Here the accuracy is 50% only which is of no use since the model behaving like a random predicting model, so we need to train it more, but first we will lool into the weights since they might have changed during above epoch"
   ]
  },
  {
   "cell_type": "code",
   "execution_count": null,
   "metadata": {},
   "outputs": [],
   "source": [
    "model.W1"
   ]
  },
  {
   "cell_type": "code",
   "execution_count": null,
   "metadata": {},
   "outputs": [],
   "source": [
    "model.b1"
   ]
  },
  {
   "cell_type": "code",
   "execution_count": null,
   "metadata": {},
   "outputs": [],
   "source": [
    "model.W2"
   ]
  },
  {
   "cell_type": "code",
   "execution_count": null,
   "metadata": {},
   "outputs": [],
   "source": [
    "model.b2"
   ]
  },
  {
   "cell_type": "markdown",
   "metadata": {},
   "source": [
    "We can see the first layer weights have been changed, whereas the weights for the second layer is same. Now, we will do next epoch and ee what is the result:"
   ]
  },
  {
   "cell_type": "code",
   "execution_count": null,
   "metadata": {},
   "outputs": [],
   "source": [
    "model.train(data, 5, 100)"
   ]
  },
  {
   "cell_type": "code",
   "execution_count": null,
   "metadata": {},
   "outputs": [],
   "source": [
    "model.W1"
   ]
  },
  {
   "cell_type": "markdown",
   "metadata": {},
   "source": [
    "## Kohonen Neural Network"
   ]
  },
  {
   "cell_type": "markdown",
   "metadata": {},
   "source": [
    "This is an unsupersived neural network. It can be used to cluster the given inputs into specified number of outputs. To make clusters this model uses **Euclidean distance**."
   ]
  },
  {
   "cell_type": "code",
   "execution_count": null,
   "metadata": {},
   "outputs": [],
   "source": [
    "from Kohonen import KohonenNN"
   ]
  },
  {
   "cell_type": "code",
   "execution_count": null,
   "metadata": {},
   "outputs": [],
   "source": [
    "model1 = KohonenNN(2, 2)"
   ]
  },
  {
   "cell_type": "code",
   "execution_count": null,
   "metadata": {},
   "outputs": [],
   "source": [
    "print(vars(model1))"
   ]
  },
  {
   "cell_type": "markdown",
   "metadata": {},
   "source": [
    "The member variable of the KohonenNN is **W**, which corresponds to the weights between input layer and the output layer and will be used to calculate the **Euclidean distance**."
   ]
  },
  {
   "cell_type": "markdown",
   "metadata": {},
   "source": [
    "As in the previous model we will again set the weights explicily to see the behaviour properly"
   ]
  },
  {
   "cell_type": "code",
   "execution_count": null,
   "metadata": {},
   "outputs": [],
   "source": [
    "model1.W = np.array([[0.1, 0.2], [0.3, 0.4]])\n",
    "print(model1.W)"
   ]
  },
  {
   "cell_type": "markdown",
   "metadata": {},
   "source": [
    "First, we need to prepare the data for the model. We will use the same data as above but her we do not need the output values or desired values."
   ]
  },
  {
   "cell_type": "code",
   "execution_count": null,
   "metadata": {},
   "outputs": [],
   "source": [
    "data = [np.array([[1], [1]]), \n",
    "        np.array([[1], [-1]]),\n",
    "        np.array([[-1], [1]]),\n",
    "        np.array([[-1], [-1]])]\n",
    "print(data)"
   ]
  },
  {
   "cell_type": "markdown",
   "metadata": {},
   "source": [
    "I have designed the model such that we can get the clusters directly:"
   ]
  },
  {
   "cell_type": "code",
   "execution_count": null,
   "metadata": {},
   "outputs": [],
   "source": [
    "model1.cluster([data[0]], learning_rate=0.5, R=1, R_decay=0.5, lr_decay= 0.5, epochs=1)"
   ]
  },
  {
   "cell_type": "markdown",
   "metadata": {},
   "source": [
    "## Backprop Neural Network"
   ]
  },
  {
   "cell_type": "code",
   "execution_count": 1,
   "metadata": {},
   "outputs": [],
   "source": [
    "from BackpropNN import BackpropNN"
   ]
  },
  {
   "cell_type": "code",
   "execution_count": 2,
   "metadata": {},
   "outputs": [],
   "source": [
    "model2 = BackpropNN(2, 2, 1, 0.5)"
   ]
  },
  {
   "cell_type": "code",
   "execution_count": 3,
   "metadata": {},
   "outputs": [
    {
     "name": "stdout",
     "output_type": "stream",
     "text": [
      "{'Wi': array([[ -1.53665052, -10.04926768],\n",
      "       [ -2.83549619,   1.74004336]]), 'bi': array([[5.87865058],\n",
      "       [8.73610592]]), 'Wh': array([[-3.69220453, 24.34201821]]), 'bh': array([[3.43472757]]), 's': 0.5}\n"
     ]
    }
   ],
   "source": [
    "print(vars(model2))"
   ]
  },
  {
   "cell_type": "markdown",
   "metadata": {},
   "source": [
    "Again we will set weights explicitly"
   ]
  },
  {
   "cell_type": "code",
   "execution_count": 13,
   "metadata": {},
   "outputs": [],
   "source": [
    "model2.Wi = np.array([[0.1, 0.2], [0.3, 0.4]])\n",
    "model2.bi = np.array([[-0.5], [-0.5]])\n",
    "model2.Wh = np.array([[0.5, 0.6]])\n",
    "model2.bh = np.array([[-0.5]])"
   ]
  },
  {
   "cell_type": "markdown",
   "metadata": {},
   "source": [
    "Prepared data:"
   ]
  },
  {
   "cell_type": "code",
   "execution_count": 7,
   "metadata": {},
   "outputs": [
    {
     "name": "stdout",
     "output_type": "stream",
     "text": [
      "[(array([[0.4],\n",
      "       [0.5]]), array([[0.9]])), (array([[0.3],\n",
      "       [0.4]]), array([[0.7]])), (array([[0.2],\n",
      "       [0.3]]), array([[0.5]])), (array([[0.1],\n",
      "       [0.2]]), array([[0.9]]))]\n"
     ]
    }
   ],
   "source": [
    "data = [(np.array([[0.4], [0.5]]), np.array([[0.9]])),\n",
    "       (np.array([[0.3], [0.4]]), np.array([[0.7]])),\n",
    "       (np.array([[0.2], [0.3]]), np.array([[0.5]])),\n",
    "       (np.array([[0.1], [0.2]]), np.array([[0.9]]))\n",
    "       ]\n",
    "print(data)"
   ]
  },
  {
   "cell_type": "code",
   "execution_count": 14,
   "metadata": {},
   "outputs": [
    {
     "name": "stdout",
     "output_type": "stream",
     "text": [
      "[[-0.00246892 -0.00308616]\n",
      " [-0.00298073 -0.00372592]]\n",
      "Epoch: 1\n",
      "Loss: 0.15859613293467442\n",
      "\n",
      "#----------------------------------------------------------------#\n",
      "\n",
      "[[0.10012345 0.20015431]\n",
      " [0.30014904 0.4001863 ]]\n",
      "[[-0.49969138]\n",
      " [-0.49962741]]\n",
      "[[0.50226557 0.60237705]]\n",
      "[[-0.49502205]]\n"
     ]
    }
   ],
   "source": [
    "model2.train([data[0]], learning_rate=0.05, epochs=1)\n",
    "print(model2.Wi)\n",
    "print(model2.bi)\n",
    "print(model2.Wh)\n",
    "print(model2.bh)"
   ]
  },
  {
   "cell_type": "code",
   "execution_count": null,
   "metadata": {},
   "outputs": [],
   "source": [
    "for (x, y) in data:\n",
    "    print(model2.predict(x))"
   ]
  }
 ],
 "metadata": {
  "@webio": {
   "lastCommId": null,
   "lastKernelId": null
  },
  "kernelspec": {
   "display_name": "Python 3",
   "language": "python",
   "name": "python3"
  },
  "language_info": {
   "codemirror_mode": {
    "name": "ipython",
    "version": 3
   },
   "file_extension": ".py",
   "mimetype": "text/x-python",
   "name": "python",
   "nbconvert_exporter": "python",
   "pygments_lexer": "ipython3",
   "version": "3.7.1"
  }
 },
 "nbformat": 4,
 "nbformat_minor": 2
}
